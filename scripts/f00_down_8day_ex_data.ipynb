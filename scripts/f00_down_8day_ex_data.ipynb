{
 "cells": [
  {
   "cell_type": "code",
   "execution_count": 2,
   "id": "de52b435",
   "metadata": {},
   "outputs": [
    {
     "data": {
      "text/html": [
       "\n",
       "            <style>\n",
       "                .geemap-dark {\n",
       "                    --jp-widgets-color: white;\n",
       "                    --jp-widgets-label-color: white;\n",
       "                    --jp-ui-font-color1: white;\n",
       "                    --jp-layout-color2: #454545;\n",
       "                    background-color: #383838;\n",
       "                }\n",
       "\n",
       "                .geemap-dark .jupyter-button {\n",
       "                    --jp-layout-color3: #383838;\n",
       "                }\n",
       "\n",
       "                .geemap-colab {\n",
       "                    background-color: var(--colab-primary-surface-color, white);\n",
       "                }\n",
       "\n",
       "                .geemap-colab .jupyter-button {\n",
       "                    --jp-layout-color3: var(--colab-primary-surface-color, white);\n",
       "                }\n",
       "            </style>\n",
       "            "
      ],
      "text/plain": [
       "<IPython.core.display.HTML object>"
      ]
     },
     "metadata": {},
     "output_type": "display_data"
    }
   ],
   "source": [
    "import ee\n",
    "import xee\n",
    "import geemap\n",
    "\n",
    "import xarray as xr\n",
    "\n",
    "# import eextract\n",
    "\n",
    "import time\n",
    "import os\n",
    "os.environ['HTTP_PROXY'] = 'http://127.0.0.1:1081'\n",
    "os.environ['HTTPS_PROXY'] = 'http://127.0.0.1:1081'"
   ]
  },
  {
   "cell_type": "code",
   "execution_count": 3,
   "id": "cbb9eb75",
   "metadata": {},
   "outputs": [
    {
     "data": {
      "text/html": [
       "\n",
       "            <style>\n",
       "                .geemap-dark {\n",
       "                    --jp-widgets-color: white;\n",
       "                    --jp-widgets-label-color: white;\n",
       "                    --jp-ui-font-color1: white;\n",
       "                    --jp-layout-color2: #454545;\n",
       "                    background-color: #383838;\n",
       "                }\n",
       "\n",
       "                .geemap-dark .jupyter-button {\n",
       "                    --jp-layout-color3: #383838;\n",
       "                }\n",
       "\n",
       "                .geemap-colab {\n",
       "                    background-color: var(--colab-primary-surface-color, white);\n",
       "                }\n",
       "\n",
       "                .geemap-colab .jupyter-button {\n",
       "                    --jp-layout-color3: var(--colab-primary-surface-color, white);\n",
       "                }\n",
       "            </style>\n",
       "            "
      ],
      "text/plain": [
       "<IPython.core.display.HTML object>"
      ]
     },
     "metadata": {},
     "output_type": "display_data"
    },
    {
     "data": {
      "text/html": [
       "<p>To authorize access needed by Earth Engine, open the following\n",
       "        URL in a web browser and follow the instructions:</p>\n",
       "        <p><a href=https://code.earthengine.google.com/client-auth?scopes=https%3A//www.googleapis.com/auth/earthengine%20https%3A//www.googleapis.com/auth/cloud-platform%20https%3A//www.googleapis.com/auth/drive%20https%3A//www.googleapis.com/auth/devstorage.full_control&request_id=pJyBrWi1ihbJmqU5qC2cqC_yIrZ0DQRhbfz7QUqjMIE&tc=U7-hAb9OsHGJhINoYhxT88RJf2C_4y1m2UNhXhsv7yw&cc=wftq4Ql8qu57BXV-lyYkBcnGYgWeiUtFXj5RdaEKFfY>https://code.earthengine.google.com/client-auth?scopes=https%3A//www.googleapis.com/auth/earthengine%20https%3A//www.googleapis.com/auth/cloud-platform%20https%3A//www.googleapis.com/auth/drive%20https%3A//www.googleapis.com/auth/devstorage.full_control&request_id=pJyBrWi1ihbJmqU5qC2cqC_yIrZ0DQRhbfz7QUqjMIE&tc=U7-hAb9OsHGJhINoYhxT88RJf2C_4y1m2UNhXhsv7yw&cc=wftq4Ql8qu57BXV-lyYkBcnGYgWeiUtFXj5RdaEKFfY</a></p>\n",
       "        <p>The authorization workflow will generate a code, which you should paste in the box below.</p>\n",
       "        "
      ],
      "text/plain": [
       "<IPython.core.display.HTML object>"
      ]
     },
     "metadata": {},
     "output_type": "display_data"
    },
    {
     "name": "stdout",
     "output_type": "stream",
     "text": [
      "\n",
      "Successfully saved authorization token.\n"
     ]
    },
    {
     "name": "stderr",
     "output_type": "stream",
     "text": [
      "*** Earth Engine *** Share your feedback by taking our Annual Developer Satisfaction Survey: https://google.qualtrics.com/jfe/form/SV_7TDKVSyKvBdmMqW?ref=4i2o6\n"
     ]
    }
   ],
   "source": [
    "ee.Authenticate()\n",
    "ee.Initialize(opt_url='https://earthengine-highvolume.googleapis.com', project='ee-xieyx')"
   ]
  },
  {
   "cell_type": "code",
   "execution_count": 4,
   "id": "214fe528",
   "metadata": {},
   "outputs": [
    {
     "data": {
      "text/html": [
       "\n",
       "            <style>\n",
       "                .geemap-dark {\n",
       "                    --jp-widgets-color: white;\n",
       "                    --jp-widgets-label-color: white;\n",
       "                    --jp-ui-font-color1: white;\n",
       "                    --jp-layout-color2: #454545;\n",
       "                    background-color: #383838;\n",
       "                }\n",
       "\n",
       "                .geemap-dark .jupyter-button {\n",
       "                    --jp-layout-color3: #383838;\n",
       "                }\n",
       "\n",
       "                .geemap-colab {\n",
       "                    background-color: var(--colab-primary-surface-color, white);\n",
       "                }\n",
       "\n",
       "                .geemap-colab .jupyter-button {\n",
       "                    --jp-layout-color3: var(--colab-primary-surface-color, white);\n",
       "                }\n",
       "            </style>\n",
       "            "
      ],
      "text/plain": [
       "<IPython.core.display.HTML object>"
      ]
     },
     "metadata": {},
     "output_type": "display_data"
    }
   ],
   "source": [
    "def cal_ET(img):\n",
    "  time_start = ee.Date(img.get('system:time_start'))\n",
    "\n",
    "  Es = img.select('Es')\n",
    "  Ei = img.select('Ei')\n",
    "  Ec = img.select('Ec')\n",
    "\n",
    "  ET = Ec.expression('Es + Ei + Ec', {\n",
    "    \"Es\": Es, \"Ei\": Ei, \"Ec\": Ec\n",
    "  }).rename('ET')\n",
    "\n",
    "  return ET.copyProperties(img, img.propertyNames()) \\\n",
    "    .set('date', time_start.format('yyyy-MM-dd'))\n",
    "\n",
    "ic = ee.ImageCollection(\"CAS/IGSNRR/PML/V2_v018\").map(cal_ET)"
   ]
  },
  {
   "cell_type": "code",
   "execution_count": 5,
   "id": "4b172d54",
   "metadata": {},
   "outputs": [
    {
     "data": {
      "text/html": [
       "\n",
       "            <style>\n",
       "                .geemap-dark {\n",
       "                    --jp-widgets-color: white;\n",
       "                    --jp-widgets-label-color: white;\n",
       "                    --jp-ui-font-color1: white;\n",
       "                    --jp-layout-color2: #454545;\n",
       "                    background-color: #383838;\n",
       "                }\n",
       "\n",
       "                .geemap-dark .jupyter-button {\n",
       "                    --jp-layout-color3: #383838;\n",
       "                }\n",
       "\n",
       "                .geemap-colab {\n",
       "                    background-color: var(--colab-primary-surface-color, white);\n",
       "                }\n",
       "\n",
       "                .geemap-colab .jupyter-button {\n",
       "                    --jp-layout-color3: var(--colab-primary-surface-color, white);\n",
       "                }\n",
       "            </style>\n",
       "            "
      ],
      "text/plain": [
       "<IPython.core.display.HTML object>"
      ]
     },
     "metadata": {},
     "output_type": "display_data"
    },
    {
     "data": {
      "text/html": [
       "<div><style>:root {\n",
       "  --font-color-primary: var(--jp-content-font-color0, rgba(0, 0, 0, 1));\n",
       "  --font-color-secondary: var(--jp-content-font-color2, rgba(0, 0, 0, 0.7));\n",
       "  --font-color-accent: rgba(123, 31, 162, 1);\n",
       "  --border-color: var(--jp-border-color2, #e0e0e0);\n",
       "  --background-color: var(--jp-layout-color0, white);\n",
       "  --background-color-row-even: var(--jp-layout-color1, white);\n",
       "  --background-color-row-odd: var(--jp-layout-color2, #eeeeee);\n",
       "}\n",
       "\n",
       "html[theme=\"dark\"],\n",
       "body[data-theme=\"dark\"],\n",
       "body.vscode-dark {\n",
       "  --font-color-primary: rgba(255, 255, 255, 1);\n",
       "  --font-color-secondary: rgba(255, 255, 255, 0.7);\n",
       "  --font-color-accent: rgb(173, 132, 190);\n",
       "  --border-color: #2e2e2e;\n",
       "  --background-color: #111111;\n",
       "  --background-color-row-even: #111111;\n",
       "  --background-color-row-odd: #313131;\n",
       "}\n",
       "\n",
       ".eerepr {\n",
       "  padding: 1em;\n",
       "  line-height: 1.5em;\n",
       "  min-width: 300px;\n",
       "  max-width: 1200px;\n",
       "  overflow-y: scroll;\n",
       "  max-height: 600px;\n",
       "  border: 1px solid var(--border-color);\n",
       "  font-family: monospace;\n",
       "  font-size: 14px;\n",
       "}\n",
       "\n",
       ".eerepr li {\n",
       "  list-style-type: none;\n",
       "  margin: 0;\n",
       "}\n",
       "\n",
       ".eerepr ul {\n",
       "  padding-left: 1.5em !important;\n",
       "  margin: 0;\n",
       "}\n",
       "\n",
       ".eerepr > ul {\n",
       "  padding-left: 0 !important;\n",
       "}\n",
       "\n",
       ".eerepr summary {\n",
       "  color: var(--font-color-secondary);\n",
       "  cursor: pointer;\n",
       "  margin: 0;\n",
       "}\n",
       "\n",
       ".eerepr summary:hover {\n",
       "  color: var(--font-color-primary);\n",
       "  background-color: var(--background-color-row-odd)\n",
       "}\n",
       "\n",
       ".ee-k {\n",
       "  color: var(--font-color-accent);\n",
       "  margin-right: 6px;\n",
       "}\n",
       "\n",
       ".ee-v {\n",
       "  color: var(--font-color-primary);\n",
       "}\n",
       "\n",
       ".eerepr details > summary::before {\n",
       "  content: '▼';\n",
       "  display: inline-block;\n",
       "  margin-right: 6px;\n",
       "  transition: transform 0.2s;\n",
       "  transform: rotate(-90deg);\n",
       "}\n",
       "\n",
       ".eerepr details[open] > summary::before {\n",
       "  transform: rotate(0deg);\n",
       "}\n",
       "\n",
       ".eerepr details summary::-webkit-details-marker {\n",
       "  display:none;\n",
       "}\n",
       "\n",
       ".eerepr details summary {\n",
       "  list-style-type: none;\n",
       "}\n",
       "</style><div class='eerepr'><ul><li><details><summary>Image CAS/IGSNRR/PML/V2_v018/PML_V2_8d_v018_2000-02-26 (1 band)</summary><ul><li><span class='ee-k'>type:</span><span class='ee-v'>Image</span></li><li><span class='ee-k'>id:</span><span class='ee-v'>CAS/IGSNRR/PML/V2_v018/PML_V2_8d_v018_2000-02-26</span></li><li><span class='ee-k'>version:</span><span class='ee-v'>1723228862870319</span></li><li><details><summary>bands: List (1 element)</summary><ul><li><details><summary>0: \"ET\", double, EPSG:4326</summary><ul><li><span class='ee-k'>id:</span><span class='ee-v'>ET</span></li><li><span class='ee-k'>crs:</span><span class='ee-v'>EPSG:4326</span></li><li><details><summary>crs_transform: List (6 elements)</summary><ul><li><span class='ee-k'>0:</span><span class='ee-v'>0.004166666666666667</span></li><li><span class='ee-k'>1:</span><span class='ee-v'>0</span></li><li><span class='ee-k'>2:</span><span class='ee-v'>-180</span></li><li><span class='ee-k'>3:</span><span class='ee-v'>0</span></li><li><span class='ee-k'>4:</span><span class='ee-v'>-0.004166666666666667</span></li><li><span class='ee-k'>5:</span><span class='ee-v'>89</span></li></ul></details></li><li><details><summary>data_type: double</summary><ul><li><span class='ee-k'>type:</span><span class='ee-v'>PixelType</span></li><li><span class='ee-k'>max:</span><span class='ee-v'>1966.0500000000002</span></li><li><span class='ee-k'>min:</span><span class='ee-v'>0</span></li><li><span class='ee-k'>precision:</span><span class='ee-v'>double</span></li></ul></details></li></ul></details></li></ul></details></li><li><details><summary>properties: Object (3 properties)</summary><ul><li><span class='ee-k'>date:</span><span class='ee-v'>2000-02-26</span></li><li><span class='ee-k'>system:index:</span><span class='ee-v'>PML_V2_8d_v018_2000-02-26</span></li><li><span class='ee-k'>system:time_start:</span><span class='ee-v'>951523200000</span></li></ul></details></li></ul></details></li></ul></div></div>"
      ],
      "text/plain": [
       "<ee.image.Image at 0x243fde141b0>"
      ]
     },
     "execution_count": 5,
     "metadata": {},
     "output_type": "execute_result"
    }
   ],
   "source": [
    "ic.first()"
   ]
  },
  {
   "cell_type": "code",
   "execution_count": 7,
   "id": "085dd321",
   "metadata": {},
   "outputs": [
    {
     "data": {
      "text/html": [
       "\n",
       "            <style>\n",
       "                .geemap-dark {\n",
       "                    --jp-widgets-color: white;\n",
       "                    --jp-widgets-label-color: white;\n",
       "                    --jp-ui-font-color1: white;\n",
       "                    --jp-layout-color2: #454545;\n",
       "                    background-color: #383838;\n",
       "                }\n",
       "\n",
       "                .geemap-dark .jupyter-button {\n",
       "                    --jp-layout-color3: #383838;\n",
       "                }\n",
       "\n",
       "                .geemap-colab {\n",
       "                    background-color: var(--colab-primary-surface-color, white);\n",
       "                }\n",
       "\n",
       "                .geemap-colab .jupyter-button {\n",
       "                    --jp-layout-color3: var(--colab-primary-surface-color, white);\n",
       "                }\n",
       "            </style>\n",
       "            "
      ],
      "text/plain": [
       "<IPython.core.display.HTML object>"
      ]
     },
     "metadata": {},
     "output_type": "display_data"
    }
   ],
   "source": [
    "ic = ic.filterDate(ee.Date('2020-01-01'), ee.Date('2022-01-01'))"
   ]
  },
  {
   "cell_type": "code",
   "execution_count": 8,
   "id": "fa0b549f",
   "metadata": {},
   "outputs": [
    {
     "data": {
      "text/html": [
       "\n",
       "            <style>\n",
       "                .geemap-dark {\n",
       "                    --jp-widgets-color: white;\n",
       "                    --jp-widgets-label-color: white;\n",
       "                    --jp-ui-font-color1: white;\n",
       "                    --jp-layout-color2: #454545;\n",
       "                    background-color: #383838;\n",
       "                }\n",
       "\n",
       "                .geemap-dark .jupyter-button {\n",
       "                    --jp-layout-color3: #383838;\n",
       "                }\n",
       "\n",
       "                .geemap-colab {\n",
       "                    background-color: var(--colab-primary-surface-color, white);\n",
       "                }\n",
       "\n",
       "                .geemap-colab .jupyter-button {\n",
       "                    --jp-layout-color3: var(--colab-primary-surface-color, white);\n",
       "                }\n",
       "            </style>\n",
       "            "
      ],
      "text/plain": [
       "<IPython.core.display.HTML object>"
      ]
     },
     "metadata": {},
     "output_type": "display_data"
    }
   ],
   "source": [
    "ds = xr.open_dataset(\n",
    "  ic, engine='ee',\n",
    "  crs = 'EPSG:4326', \n",
    "  scale=0.5,\n",
    "  geometry = ee.Geometry.Rectangle(70, 15, 140, 55)\n",
    ")\n",
    "\n",
    "ds.to_netcdf('D:/Data/PML_V2_V018_ET_050deg_8day_China_2020-2021.nc')"
   ]
  }
 ],
 "metadata": {
  "kernelspec": {
   "display_name": "Python 3",
   "language": "python",
   "name": "python3"
  },
  "language_info": {
   "codemirror_mode": {
    "name": "ipython",
    "version": 3
   },
   "file_extension": ".py",
   "mimetype": "text/x-python",
   "name": "python",
   "nbconvert_exporter": "python",
   "pygments_lexer": "ipython3",
   "version": "3.13.5"
  }
 },
 "nbformat": 4,
 "nbformat_minor": 5
}
